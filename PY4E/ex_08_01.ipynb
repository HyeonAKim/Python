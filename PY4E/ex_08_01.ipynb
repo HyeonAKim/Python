{
 "cells": [
  {
   "cell_type": "code",
   "execution_count": 2,
   "metadata": {
    "collapsed": true
   },
   "outputs": [
    {
     "name": "stdout",
     "output_type": "stream",
     "text": [
      "2\n3\n"
     ]
    }
   ],
   "source": [
    "a = 2\n",
    "\n",
    "print(a)\n",
    "\n",
    "a = 3 \n",
    "\n",
    "print(a)\n"
   ]
  },
  {
   "cell_type": "code",
   "execution_count": 3,
   "metadata": {},
   "outputs": [
    {
     "name": "stdout",
     "output_type": "stream",
     "text": [
      "[0]\n[0, 1]\n"
     ]
    }
   ],
   "source": [
    "list = [0]\n",
    "\n",
    "print(list)\n",
    "\n",
    "list.append(1)\n",
    "\n",
    "print(list)"
   ]
  },
  {
   "cell_type": "code",
   "execution_count": 5,
   "metadata": {},
   "outputs": [
    {
     "name": "stdout",
     "output_type": "stream",
     "text": [
      "<class 'list'>\n[1, 2, 3, 4, 5, 6]\n"
     ]
    }
   ],
   "source": [
    "a = [1,2,3,4,5,6]\n",
    "\n",
    "print(type(a))\n",
    "print(a)"
   ]
  },
  {
   "cell_type": "code",
   "execution_count": 11,
   "metadata": {},
   "outputs": [
    {
     "name": "stdout",
     "output_type": "stream",
     "text": [
      "<class 'int'>\n<class 'str'>\n<class 'list'>\n<class 'tuple'>\n<class 'dict'>\n[1, 2, 3, '문자', 'char', ['리스트', '속', '리스트'], ('튜블도 가능', '진짜?'), {'딕셔너리': '가능'}]\n"
     ]
    }
   ],
   "source": [
    "b = [ 1, 2, 3, '문자', 'char', ['리스트','속','리스트'], ('튜블도 가능', '진짜?') , {'딕셔너리':'가능'}]\n",
    "\n",
    "print(type(b[1]))\n",
    "print(type(b[4]))\n",
    "print(type(b[5]))\n",
    "print(type(b[6]))\n",
    "print(type(b[7]))\n",
    "\n",
    "print(b)"
   ]
  },
  {
   "cell_type": "code",
   "execution_count": 12,
   "metadata": {},
   "outputs": [
    {
     "name": "stdout",
     "output_type": "stream",
     "text": [
      "<class 'list'>\n[]\n"
     ]
    }
   ],
   "source": [
    "c = []\n",
    "\n",
    "print(type(c))\n",
    "print(c)"
   ]
  },
  {
   "cell_type": "code",
   "execution_count": 16,
   "metadata": {},
   "outputs": [
    {
     "name": "stdout",
     "output_type": "stream",
     "text": [
      "0\n1\n4\na\n"
     ]
    }
   ],
   "source": [
    "list = [1,2,3,4,'a','b']\n",
    "\n",
    "print(list.index(1))\n",
    "print(list[0])\n",
    "\n",
    "\n",
    "print(list.index('a'))\n",
    "print(list[4])"
   ]
  },
  {
   "cell_type": "code",
   "execution_count": 19,
   "metadata": {},
   "outputs": [
    {
     "name": "stdout",
     "output_type": "stream",
     "text": [
      "0\na\n1\nb\n2\nc\n"
     ]
    }
   ],
   "source": [
    "string = 'abc'\n",
    "\n",
    "print(string.index('a'))\n",
    "print(string[0])\n",
    "\n",
    "print(string.index('b'))\n",
    "print(string[1])\n",
    "\n",
    "print(string.index('c'))\n",
    "print(string[2])\n"
   ]
  },
  {
   "cell_type": "code",
   "execution_count": 20,
   "metadata": {},
   "outputs": [
    {
     "ename": "TypeError",
     "evalue": "'str' object does not support item assignment",
     "traceback": [
      "\u001b[0;31m---------------------------------------------------------------------------\u001b[0m",
      "\u001b[0;31mTypeError\u001b[0m                                 Traceback (most recent call last)",
      "\u001b[0;32m<ipython-input-20-04ed2c08a248>\u001b[0m in \u001b[0;36m<module>\u001b[0;34m()\u001b[0m\n\u001b[1;32m      1\u001b[0m \u001b[0mstring\u001b[0m \u001b[0;34m=\u001b[0m \u001b[0;34m'abc'\u001b[0m\u001b[0;34m\u001b[0m\u001b[0m\n\u001b[1;32m      2\u001b[0m \u001b[0;34m\u001b[0m\u001b[0m\n\u001b[0;32m----> 3\u001b[0;31m \u001b[0mstring\u001b[0m\u001b[0;34m[\u001b[0m\u001b[0;36m0\u001b[0m\u001b[0;34m]\u001b[0m \u001b[0;34m=\u001b[0m \u001b[0;34m'b'\u001b[0m\u001b[0;34m\u001b[0m\u001b[0m\n\u001b[0m",
      "\u001b[0;31mTypeError\u001b[0m: 'str' object does not support item assignment"
     ],
     "output_type": "error"
    }
   ],
   "source": [
    "string = 'abc'\n",
    "\n",
    "string[0] = 'b'"
   ]
  },
  {
   "cell_type": "code",
   "execution_count": 23,
   "metadata": {},
   "outputs": [
    {
     "name": "stdout",
     "output_type": "stream",
     "text": [
      "['a', 'b', 'c']\n['b', 'b', 'c']\n"
     ]
    }
   ],
   "source": [
    "list = ['a','b','c']\n",
    "\n",
    "print(list)\n",
    "\n",
    "list[0] = 'b'\n",
    "\n",
    "print(list)"
   ]
  },
  {
   "cell_type": "code",
   "execution_count": 26,
   "metadata": {},
   "outputs": [
    {
     "name": "stdout",
     "output_type": "stream",
     "text": [
      "9\n4\n"
     ]
    }
   ],
   "source": [
    "greet = 'Hello Bon'\n",
    "print(len(greet))\n",
    "\n",
    "x = [1,2,'joe',99]\n",
    "print(len(x))"
   ]
  },
  {
   "cell_type": "code",
   "execution_count": 31,
   "metadata": {},
   "outputs": [
    {
     "name": "stdout",
     "output_type": "stream",
     "text": [
      "range(0, 4)\n3\nrange(0, 3)\n"
     ]
    }
   ],
   "source": [
    "print(range(4))\n",
    "\n",
    "friends = ['Joseph','Glenn','Sally']\n",
    "print(len(friends))\n",
    "print(range(len(friends)))"
   ]
  },
  {
   "cell_type": "code",
   "execution_count": 32,
   "metadata": {},
   "outputs": [
    {
     "name": "stdout",
     "output_type": "stream",
     "text": [
      "Happy new year: Joseph\nHappy new year: Glenn\nHappy new year: Sally\nHappy new year: Joseph\nHappy new year: Glenn\nHappy new year: Sally\n"
     ]
    }
   ],
   "source": [
    "\n",
    "for friend in friends :\n",
    "    print('Happy new year:', friend)\n",
    "\n",
    "for i in range(len(friends)):\n",
    "    friend = friends[i]\n",
    "    print('Happy new year:',friend)"
   ]
  },
  {
   "cell_type": "code",
   "execution_count": 36,
   "metadata": {},
   "outputs": [
    {
     "name": "stdout",
     "output_type": "stream",
     "text": [
      "[1, 2, 3, 4, 5, 6]\n"
     ]
    }
   ],
   "source": [
    "a = [1,2,3]\n",
    "b = [4,5,6]\n",
    "\n",
    "c = a+b\n",
    "\n",
    "print(c)\n"
   ]
  },
  {
   "cell_type": "code",
   "execution_count": 39,
   "metadata": {},
   "outputs": [
    {
     "name": "stdout",
     "output_type": "stream",
     "text": [
      "[41, 12]\n[9, 41, 12, 3]\n[3, 74, 15]\n[9, 41, 12, 3, 74, 15]\n"
     ]
    }
   ],
   "source": [
    "t = [9,41,12,3,74,15]\n",
    "\n",
    "print(t[1:3])\n",
    "\n",
    "print(t[:4])\n",
    "\n",
    "print(t[3:])\n",
    "\n",
    "print(t[:])\n"
   ]
  },
  {
   "cell_type": "code",
   "execution_count": 47,
   "metadata": {},
   "outputs": [
    {
     "name": "stdout",
     "output_type": "stream",
     "text": [
      "<class 'list'>\n['__add__', '__class__', '__contains__', '__delattr__', '__delitem__', '__dir__', '__doc__', '__eq__', '__format__', '__ge__', '__getattribute__', '__getitem__', '__gt__', '__hash__', '__iadd__', '__imul__', '__init__', '__iter__', '__le__', '__len__', '__lt__', '__mul__', '__ne__', '__new__', '__reduce__', '__reduce_ex__', '__repr__', '__reversed__', '__rmul__', '__setattr__', '__setitem__', '__sizeof__', '__str__', '__subclasshook__', 'append', 'clear', 'copy', 'count', 'extend', 'index', 'insert', 'pop', 'remove', 'reverse', 'sort']\n"
     ]
    }
   ],
   "source": [
    "# 빈리스트 생성방법\n",
    "x = []\n",
    "\n",
    "print(type(x))\n",
    "print(dir(x))"
   ]
  },
  {
   "cell_type": "code",
   "execution_count": 46,
   "metadata": {},
   "outputs": [
    {
     "name": "stdout",
     "output_type": "stream",
     "text": [
      "['book', 99]\n['book', 99, 'cookie']\n"
     ]
    }
   ],
   "source": [
    "stuff = []\n",
    "stuff.append('book')\n",
    "stuff.append(99)\n",
    "print(stuff)\n",
    "\n",
    "stuff.append('cookie')\n",
    "print(stuff)"
   ]
  },
  {
   "cell_type": "code",
   "execution_count": 48,
   "metadata": {},
   "outputs": [
    {
     "name": "stdout",
     "output_type": "stream",
     "text": [
      "True\nFalse\nTrue\n"
     ]
    }
   ],
   "source": [
    "\n",
    "some = [1,9,21,10,16]\n",
    "\n",
    "print(9 in some)\n",
    "\n",
    "print(15 in some)\n",
    "\n",
    "print(20 not in some)"
   ]
  },
  {
   "cell_type": "code",
   "execution_count": 52,
   "metadata": {},
   "outputs": [
    {
     "name": "stdout",
     "output_type": "stream",
     "text": [
      "['a', 'b', 'c']\n['c', 'b', 'a']\n"
     ]
    }
   ],
   "source": [
    "\n",
    "friends = ['b','a','c']\n",
    "\n",
    "friends.sort()\n",
    "\n",
    "print(friends)\n",
    "\n",
    "friends.sort(reverse=True)\n",
    "\n",
    "print(friends)"
   ]
  },
  {
   "cell_type": "code",
   "execution_count": 53,
   "metadata": {},
   "outputs": [
    {
     "name": "stdout",
     "output_type": "stream",
     "text": [
      "6\n74\n3\n154\n25.666666666666668\n"
     ]
    }
   ],
   "source": [
    "nums = [3,41,12,9,74,15]\n",
    "\n",
    "print(len(nums))\n",
    "\n",
    "print(max(nums))\n",
    "\n",
    "print(min(nums))\n",
    "\n",
    "print(sum(nums))\n",
    "\n",
    "print(sum(nums)/len(nums))"
   ]
  },
  {
   "cell_type": "code",
   "execution_count": 71,
   "metadata": {
    "collapsed": false
   },
   "outputs": [
    {
     "name": "stdout",
     "output_type": "stream",
     "text": [
      "['With', 'three', 'words']\n3\nWith\nthree\nwords\n"
     ]
    }
   ],
   "source": [
    "\n",
    "abc = 'With three words'\n",
    "\n",
    "# 공백으로 문자열을 나누고 리스트를 생성\n",
    "stuff = abc.split()\n",
    "\n",
    "print(stuff)\n",
    "\n",
    "print(len(stuff))\n",
    "\n",
    "for w in stuff:\n",
    "    print(w)\n",
    "\n"
   ]
  },
  {
   "cell_type": "code",
   "execution_count": 72,
   "metadata": {},
   "outputs": [
    {
     "name": "stdout",
     "output_type": "stream",
     "text": [
      "['A', 'lot.', 'of', 'space']\n['first;second;third']\n1\n['first', 'second', 'third']\n3\n"
     ]
    }
   ],
   "source": [
    "line = 'A lot.      of space'\n",
    "\n",
    "etc = line.split()\n",
    "\n",
    "print(etc)\n",
    "\n",
    "# 구획문자 지정\n",
    "line = 'first;second;third'\n",
    "\n",
    "thing = line.split()\n",
    "\n",
    "print(thing)\n",
    "\n",
    "print(len(thing))\n",
    "\n",
    "thing = line.split(';')\n",
    "\n",
    "print(thing)\n",
    "\n",
    "print(len(thing))"
   ]
  },
  {
   "cell_type": "code",
   "execution_count": 76,
   "metadata": {},
   "outputs": [
    {
     "ename": "FileNotFoundError",
     "evalue": "[Errno 2] No such file or directory: 'mbox-short.txt'",
     "traceback": [
      "\u001b[0;31m---------------------------------------------------------------------------\u001b[0m",
      "\u001b[0;31mFileNotFoundError\u001b[0m                         Traceback (most recent call last)",
      "\u001b[0;32m<ipython-input-76-50c396369597>\u001b[0m in \u001b[0;36m<module>\u001b[0;34m()\u001b[0m\n\u001b[1;32m      1\u001b[0m \u001b[0;34m\u001b[0m\u001b[0m\n\u001b[0;32m----> 2\u001b[0;31m \u001b[0mfhand\u001b[0m \u001b[0;34m=\u001b[0m \u001b[0mopen\u001b[0m\u001b[0;34m(\u001b[0m\u001b[0;34m'mbox-short.txt'\u001b[0m\u001b[0;34m)\u001b[0m\u001b[0;34m\u001b[0m\u001b[0m\n\u001b[0m\u001b[1;32m      3\u001b[0m \u001b[0;34m\u001b[0m\u001b[0m\n\u001b[1;32m      4\u001b[0m \u001b[0;32mfor\u001b[0m \u001b[0mline\u001b[0m \u001b[0;32min\u001b[0m \u001b[0mfhand\u001b[0m\u001b[0;34m:\u001b[0m\u001b[0;34m\u001b[0m\u001b[0m\n\u001b[1;32m      5\u001b[0m     \u001b[0;31m# 1.개행문자 공백제거\u001b[0m\u001b[0;34m\u001b[0m\u001b[0;34m\u001b[0m\u001b[0m\n",
      "\u001b[0;31mFileNotFoundError\u001b[0m: [Errno 2] No such file or directory: 'mbox-short.txt'"
     ],
     "output_type": "error"
    }
   ],
   "source": [
    "\n",
    "fhand = open('mbox-short.txt')\n",
    "\n",
    "for line in fhand:\n",
    "    # 1.개행문자 공백제거\n",
    "    line = line.rstrip()\n",
    "    # 2.From 으로 시작하는 문장가져오기\n",
    "    if not line.startswith('From:'):continue\n",
    "\t# 3.가져온 문장에서 요일부분 추출\n",
    "    words = line.split()\n",
    "    print(words[2])\n",
    "\n",
    "\t# 4.메일호스트 추출하기\n",
    "    email = words[1]\n",
    "    pieces = email.split('@')\n",
    "    print(pieces[1])"
   ]
  }
 ],
 "metadata": {
  "kernelspec": {
   "display_name": "Python 2",
   "language": "python",
   "name": "python2"
  },
  "language_info": {
   "codemirror_mode": {
    "name": "ipython",
    "version": 2
   },
   "file_extension": ".py",
   "mimetype": "text/x-python",
   "name": "python",
   "nbconvert_exporter": "python",
   "pygments_lexer": "ipython2",
   "version": "2.7.6"
  }
 },
 "nbformat": 4,
 "nbformat_minor": 0
}
